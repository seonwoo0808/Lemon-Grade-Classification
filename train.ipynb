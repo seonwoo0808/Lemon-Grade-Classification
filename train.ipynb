{
 "cells": [
  {
   "cell_type": "code",
   "execution_count": 1,
   "id": "1c02a38e",
   "metadata": {},
   "outputs": [],
   "source": [
    "import tensorflow as tf\n",
    "import numpy as np\n",
    "from tensorflow.keras.preprocessing.image import ImageDataGenerator"
   ]
  },
  {
   "cell_type": "code",
   "execution_count": 2,
   "id": "41ea7d7a",
   "metadata": {},
   "outputs": [],
   "source": [
    "data_dir = \"./lemon_dataset\"\n",
    "test_data_dir = \"./test_dataset\"\n",
    "batch_size = 256"
   ]
  },
  {
   "cell_type": "code",
   "execution_count": 3,
   "id": "06efdb4d",
   "metadata": {},
   "outputs": [],
   "source": [
    "training_data_aug = ImageDataGenerator(\n",
    "                            rescale=1/255.0,\n",
    "                            rotation_range = 90,\n",
    "                            width_shift_range=0.4,\n",
    "                            height_shift_range=0.4,\n",
    "                            vertical_flip =True,\n",
    "                            horizontal_flip =True)\n",
    "test_data_aug = ImageDataGenerator(\n",
    "                            rescale=1/255.0)"
   ]
  },
  {
   "cell_type": "code",
   "execution_count": 4,
   "id": "fd803c50",
   "metadata": {},
   "outputs": [
    {
     "name": "stdout",
     "output_type": "stream",
     "text": [
      "Found 2465 images belonging to 3 classes.\n",
      "Found 63 images belonging to 3 classes.\n"
     ]
    }
   ],
   "source": [
    "train_generator = training_data_aug.flow_from_directory(\n",
    "    data_dir,\n",
    "    batch_size=batch_size,\n",
    "    target_size=(300, 300), \n",
    "    class_mode='categorical', \n",
    "    shuffle=True \n",
    ")\n",
    "test_generator = test_data_aug.flow_from_directory(\n",
    "    test_data_dir,\n",
    "    batch_size=batch_size,\n",
    "    target_size=(300, 300),\n",
    "    class_mode='categorical',\n",
    "    shuffle=True\n",
    ")"
   ]
  },
  {
   "cell_type": "code",
   "execution_count": 5,
   "id": "83618098",
   "metadata": {},
   "outputs": [
    {
     "name": "stderr",
     "output_type": "stream",
     "text": [
      "2022-10-29 21:49:51.439368: I tensorflow/stream_executor/cuda/cuda_gpu_executor.cc:975] successful NUMA node read from SysFS had negative value (-1), but there must be at least one NUMA node, so returning NUMA node zero\n",
      "2022-10-29 21:49:51.468030: I tensorflow/stream_executor/cuda/cuda_gpu_executor.cc:975] successful NUMA node read from SysFS had negative value (-1), but there must be at least one NUMA node, so returning NUMA node zero\n",
      "2022-10-29 21:49:51.468206: I tensorflow/stream_executor/cuda/cuda_gpu_executor.cc:975] successful NUMA node read from SysFS had negative value (-1), but there must be at least one NUMA node, so returning NUMA node zero\n"
     ]
    },
    {
     "name": "stdout",
     "output_type": "stream",
     "text": [
      "Model: \"sequential\"\n",
      "_________________________________________________________________\n",
      " Layer (type)                Output Shape              Param #   \n",
      "=================================================================\n",
      " conv2d (Conv2D)             (None, 298, 298, 64)      1792      \n",
      "                                                                 \n",
      " max_pooling2d (MaxPooling2D  (None, 149, 149, 64)     0         \n",
      " )                                                               \n",
      "                                                                 \n",
      " conv2d_1 (Conv2D)           (None, 147, 147, 64)      36928     \n",
      "                                                                 \n",
      " max_pooling2d_1 (MaxPooling  (None, 73, 73, 64)       0         \n",
      " 2D)                                                             \n",
      "                                                                 \n",
      " conv2d_2 (Conv2D)           (None, 71, 71, 64)        36928     \n",
      "                                                                 \n",
      " max_pooling2d_2 (MaxPooling  (None, 35, 35, 64)       0         \n",
      " 2D)                                                             \n",
      "                                                                 \n",
      " flatten (Flatten)           (None, 78400)             0         \n",
      "                                                                 \n",
      " dense (Dense)               (None, 512)               40141312  \n",
      "                                                                 \n",
      " dropout (Dropout)           (None, 512)               0         \n",
      "                                                                 \n",
      " dense_1 (Dense)             (None, 64)                32832     \n",
      "                                                                 \n",
      " dense_2 (Dense)             (None, 16)                1040      \n",
      "                                                                 \n",
      " dense_3 (Dense)             (None, 3)                 51        \n",
      "                                                                 \n",
      "=================================================================\n",
      "Total params: 40,250,883\n",
      "Trainable params: 40,250,883\n",
      "Non-trainable params: 0\n",
      "_________________________________________________________________\n"
     ]
    },
    {
     "name": "stderr",
     "output_type": "stream",
     "text": [
      "2022-10-29 21:49:51.468923: I tensorflow/core/platform/cpu_feature_guard.cc:193] This TensorFlow binary is optimized with oneAPI Deep Neural Network Library (oneDNN) to use the following CPU instructions in performance-critical operations:  AVX2 FMA\n",
      "To enable them in other operations, rebuild TensorFlow with the appropriate compiler flags.\n",
      "2022-10-29 21:49:51.469486: I tensorflow/stream_executor/cuda/cuda_gpu_executor.cc:975] successful NUMA node read from SysFS had negative value (-1), but there must be at least one NUMA node, so returning NUMA node zero\n",
      "2022-10-29 21:49:51.469608: I tensorflow/stream_executor/cuda/cuda_gpu_executor.cc:975] successful NUMA node read from SysFS had negative value (-1), but there must be at least one NUMA node, so returning NUMA node zero\n",
      "2022-10-29 21:49:51.469712: I tensorflow/stream_executor/cuda/cuda_gpu_executor.cc:975] successful NUMA node read from SysFS had negative value (-1), but there must be at least one NUMA node, so returning NUMA node zero\n",
      "2022-10-29 21:49:51.811408: I tensorflow/stream_executor/cuda/cuda_gpu_executor.cc:975] successful NUMA node read from SysFS had negative value (-1), but there must be at least one NUMA node, so returning NUMA node zero\n",
      "2022-10-29 21:49:51.811556: I tensorflow/stream_executor/cuda/cuda_gpu_executor.cc:975] successful NUMA node read from SysFS had negative value (-1), but there must be at least one NUMA node, so returning NUMA node zero\n",
      "2022-10-29 21:49:51.811670: I tensorflow/stream_executor/cuda/cuda_gpu_executor.cc:975] successful NUMA node read from SysFS had negative value (-1), but there must be at least one NUMA node, so returning NUMA node zero\n",
      "2022-10-29 21:49:51.811765: I tensorflow/core/common_runtime/gpu/gpu_device.cc:1532] Created device /job:localhost/replica:0/task:0/device:GPU:0 with 21365 MB memory:  -> device: 0, name: NVIDIA GeForce RTX 3090, pci bus id: 0000:08:00.0, compute capability: 8.6\n",
      "/home/seonwoo0808/anaconda3/lib/python3.9/site-packages/keras/optimizers/optimizer_v2/adam.py:110: UserWarning: The `lr` argument is deprecated, use `learning_rate` instead.\n",
      "  super(Adam, self).__init__(name, **kwargs)\n"
     ]
    }
   ],
   "source": [
    "model = tf.keras.models.Sequential([\n",
    "    tf.keras.layers.Conv2D(64, (3,3), activation='relu', input_shape=(300, 300, 3)),\n",
    "    tf.keras.layers.MaxPooling2D(2, 2),\n",
    "    tf.keras.layers.Conv2D(64, (3,3), activation='relu'),\n",
    "    tf.keras.layers.MaxPooling2D(2,2),\n",
    "    tf.keras.layers.Conv2D(64, (3,3), activation='relu'),\n",
    "    tf.keras.layers.MaxPooling2D(2,2),\n",
    "    tf.keras.layers.Flatten(),\n",
    "    tf.keras.layers.Dense(512, activation='relu'),\n",
    "    tf.keras.layers.Dropout(0.2),\n",
    "    tf.keras.layers.Dense(64, activation='relu'),\n",
    "    tf.keras.layers.Dense(16, activation='relu'),\n",
    "    tf.keras.layers.Dense(3, activation='softmax')\n",
    "])\n",
    "model.compile(optimizer=tf.keras.optimizers.Adam(lr=0.0001), loss='categorical_crossentropy', metrics=['accuracy'])\n",
    "model.summary()"
   ]
  },
  {
   "cell_type": "code",
   "execution_count": 6,
   "id": "651edb0c",
   "metadata": {},
   "outputs": [
    {
     "name": "stdout",
     "output_type": "stream",
     "text": [
      "Epoch 1/100\n"
     ]
    },
    {
     "name": "stderr",
     "output_type": "stream",
     "text": [
      "2022-10-29 21:49:59.227547: W tensorflow/core/kernels/gpu_utils.cc:50] Failed to allocate memory for convolution redzone checking; skipping this check. This is benign and only means that we won't check cudnn for out-of-bounds reads and writes. This message will only be printed once.\n",
      "2022-10-29 21:49:59.888728: I tensorflow/stream_executor/cuda/cuda_dnn.cc:384] Loaded cuDNN version 8401\n",
      "2022-10-29 21:50:02.135877: I tensorflow/stream_executor/cuda/cuda_blas.cc:1786] TensorFloat-32 will be used for the matrix multiplication. This will only be logged once.\n"
     ]
    },
    {
     "name": "stdout",
     "output_type": "stream",
     "text": [
      "10/10 [==============================] - 33s 3s/step - loss: 0.9889 - accuracy: 0.4665\n",
      "Epoch 2/100\n",
      "10/10 [==============================] - 32s 3s/step - loss: 0.7987 - accuracy: 0.5663\n",
      "Epoch 3/100\n",
      "10/10 [==============================] - 32s 3s/step - loss: 0.6544 - accuracy: 0.7010\n",
      "Epoch 4/100\n",
      "10/10 [==============================] - 32s 3s/step - loss: 0.5793 - accuracy: 0.7428\n",
      "Epoch 5/100\n",
      "10/10 [==============================] - 32s 3s/step - loss: 0.5197 - accuracy: 0.7651\n",
      "Epoch 6/100\n",
      "10/10 [==============================] - 32s 3s/step - loss: 0.4886 - accuracy: 0.7680\n",
      "Epoch 7/100\n",
      "10/10 [==============================] - 32s 3s/step - loss: 0.4825 - accuracy: 0.7696\n",
      "Epoch 8/100\n",
      "10/10 [==============================] - 32s 3s/step - loss: 0.4218 - accuracy: 0.8183\n",
      "Epoch 9/100\n",
      "10/10 [==============================] - 32s 3s/step - loss: 0.3716 - accuracy: 0.8410\n",
      "Epoch 10/100\n",
      "10/10 [==============================] - 32s 3s/step - loss: 0.3444 - accuracy: 0.8556\n",
      "Epoch 11/100\n",
      "10/10 [==============================] - 32s 3s/step - loss: 0.3278 - accuracy: 0.8641\n",
      "Epoch 12/100\n",
      "10/10 [==============================] - 32s 3s/step - loss: 0.3011 - accuracy: 0.8872\n",
      "Epoch 13/100\n",
      "10/10 [==============================] - 32s 3s/step - loss: 0.2889 - accuracy: 0.8876\n",
      "Epoch 14/100\n",
      "10/10 [==============================] - 32s 3s/step - loss: 0.2622 - accuracy: 0.8994\n",
      "Epoch 15/100\n",
      "10/10 [==============================] - 32s 3s/step - loss: 0.2679 - accuracy: 0.8897\n",
      "Epoch 16/100\n",
      "10/10 [==============================] - 32s 3s/step - loss: 0.2704 - accuracy: 0.8913\n",
      "Epoch 17/100\n",
      "10/10 [==============================] - 32s 3s/step - loss: 0.2422 - accuracy: 0.9091\n",
      "Epoch 18/100\n",
      "10/10 [==============================] - 32s 3s/step - loss: 0.2282 - accuracy: 0.9128\n",
      "Epoch 19/100\n",
      "10/10 [==============================] - 32s 3s/step - loss: 0.2277 - accuracy: 0.9124\n",
      "Epoch 20/100\n",
      "10/10 [==============================] - 32s 3s/step - loss: 0.2017 - accuracy: 0.9225\n",
      "Epoch 21/100\n",
      "10/10 [==============================] - 32s 3s/step - loss: 0.2159 - accuracy: 0.9140\n",
      "Epoch 22/100\n",
      "10/10 [==============================] - 32s 3s/step - loss: 0.1904 - accuracy: 0.9262\n",
      "Epoch 23/100\n",
      "10/10 [==============================] - 32s 3s/step - loss: 0.1568 - accuracy: 0.9477\n",
      "Epoch 24/100\n",
      "10/10 [==============================] - 32s 3s/step - loss: 0.1756 - accuracy: 0.9327\n",
      "Epoch 25/100\n",
      "10/10 [==============================] - 32s 3s/step - loss: 0.2040 - accuracy: 0.9233\n",
      "Epoch 26/100\n",
      "10/10 [==============================] - 32s 3s/step - loss: 0.1975 - accuracy: 0.9217\n",
      "Epoch 27/100\n",
      "10/10 [==============================] - 32s 3s/step - loss: 0.1622 - accuracy: 0.9428\n",
      "Epoch 28/100\n",
      "10/10 [==============================] - 32s 3s/step - loss: 0.1905 - accuracy: 0.9270\n",
      "Epoch 29/100\n",
      "10/10 [==============================] - 33s 3s/step - loss: 0.1709 - accuracy: 0.9391\n",
      "Epoch 30/100\n",
      "10/10 [==============================] - 32s 3s/step - loss: 0.1902 - accuracy: 0.9148\n",
      "Epoch 31/100\n",
      "10/10 [==============================] - 32s 3s/step - loss: 0.1869 - accuracy: 0.9254\n",
      "Epoch 32/100\n",
      "10/10 [==============================] - 32s 3s/step - loss: 0.1598 - accuracy: 0.9383\n",
      "Epoch 33/100\n",
      "10/10 [==============================] - 32s 3s/step - loss: 0.1374 - accuracy: 0.9497\n",
      "Epoch 34/100\n",
      "10/10 [==============================] - 32s 3s/step - loss: 0.1280 - accuracy: 0.9578\n",
      "Epoch 35/100\n",
      "10/10 [==============================] - 32s 3s/step - loss: 0.1301 - accuracy: 0.9538\n",
      "Epoch 36/100\n",
      "10/10 [==============================] - 32s 3s/step - loss: 0.1293 - accuracy: 0.9550\n",
      "Epoch 37/100\n",
      "10/10 [==============================] - 32s 3s/step - loss: 0.1310 - accuracy: 0.9529\n",
      "Epoch 38/100\n",
      "10/10 [==============================] - 32s 3s/step - loss: 0.1379 - accuracy: 0.9489\n",
      "Epoch 39/100\n",
      "10/10 [==============================] - 32s 3s/step - loss: 0.1346 - accuracy: 0.9501\n",
      "Epoch 40/100\n",
      "10/10 [==============================] - 32s 3s/step - loss: 0.1086 - accuracy: 0.9615\n",
      "Epoch 41/100\n",
      "10/10 [==============================] - 32s 3s/step - loss: 0.1101 - accuracy: 0.9627\n",
      "Epoch 42/100\n",
      "10/10 [==============================] - 32s 3s/step - loss: 0.1278 - accuracy: 0.9497\n",
      "Epoch 43/100\n",
      "10/10 [==============================] - 32s 3s/step - loss: 0.1064 - accuracy: 0.9619\n",
      "Epoch 44/100\n",
      "10/10 [==============================] - 32s 3s/step - loss: 0.1104 - accuracy: 0.9623\n",
      "Epoch 45/100\n",
      "10/10 [==============================] - 32s 3s/step - loss: 0.1166 - accuracy: 0.9574\n",
      "Epoch 46/100\n",
      "10/10 [==============================] - 32s 3s/step - loss: 0.1065 - accuracy: 0.9619\n",
      "Epoch 47/100\n",
      "10/10 [==============================] - 32s 3s/step - loss: 0.1188 - accuracy: 0.9529\n",
      "Epoch 48/100\n",
      "10/10 [==============================] - 32s 3s/step - loss: 0.0970 - accuracy: 0.9631\n",
      "Epoch 49/100\n",
      "10/10 [==============================] - 32s 3s/step - loss: 0.1128 - accuracy: 0.9578\n",
      "Epoch 50/100\n",
      "10/10 [==============================] - 32s 3s/step - loss: 0.0974 - accuracy: 0.9647\n",
      "Epoch 51/100\n",
      "10/10 [==============================] - 32s 3s/step - loss: 0.0809 - accuracy: 0.9724\n",
      "Epoch 52/100\n",
      "10/10 [==============================] - 32s 3s/step - loss: 0.1033 - accuracy: 0.9623\n",
      "Epoch 53/100\n",
      "10/10 [==============================] - 32s 3s/step - loss: 0.0739 - accuracy: 0.9744\n",
      "Epoch 54/100\n",
      "10/10 [==============================] - 32s 3s/step - loss: 0.0771 - accuracy: 0.9757\n",
      "Epoch 55/100\n",
      "10/10 [==============================] - 32s 3s/step - loss: 0.0944 - accuracy: 0.9696\n",
      "Epoch 56/100\n",
      "10/10 [==============================] - 32s 3s/step - loss: 0.0796 - accuracy: 0.9700\n",
      "Epoch 57/100\n",
      "10/10 [==============================] - 32s 3s/step - loss: 0.0874 - accuracy: 0.9704\n",
      "Epoch 58/100\n",
      "10/10 [==============================] - 32s 3s/step - loss: 0.0697 - accuracy: 0.9769\n",
      "Epoch 59/100\n",
      "10/10 [==============================] - 32s 3s/step - loss: 0.0865 - accuracy: 0.9667\n",
      "Epoch 60/100\n",
      "10/10 [==============================] - 32s 3s/step - loss: 0.0861 - accuracy: 0.9696\n",
      "Epoch 61/100\n",
      "10/10 [==============================] - 32s 3s/step - loss: 0.0741 - accuracy: 0.9732\n",
      "Epoch 62/100\n",
      "10/10 [==============================] - 32s 3s/step - loss: 0.0757 - accuracy: 0.9732\n",
      "Epoch 63/100\n",
      "10/10 [==============================] - 32s 3s/step - loss: 0.0799 - accuracy: 0.9720\n",
      "Epoch 64/100\n",
      "10/10 [==============================] - 32s 3s/step - loss: 0.0831 - accuracy: 0.9728\n",
      "Epoch 65/100\n",
      "10/10 [==============================] - 32s 3s/step - loss: 0.0876 - accuracy: 0.9671\n",
      "Epoch 66/100\n",
      "10/10 [==============================] - 32s 3s/step - loss: 0.1037 - accuracy: 0.9586\n",
      "Epoch 67/100\n",
      "10/10 [==============================] - 32s 3s/step - loss: 0.0696 - accuracy: 0.9761\n",
      "Epoch 68/100\n",
      "10/10 [==============================] - 32s 3s/step - loss: 0.0615 - accuracy: 0.9789\n",
      "Epoch 69/100\n",
      "10/10 [==============================] - 33s 3s/step - loss: 0.0739 - accuracy: 0.9761\n",
      "Epoch 70/100\n",
      "10/10 [==============================] - 32s 3s/step - loss: 0.0655 - accuracy: 0.9785\n",
      "Epoch 71/100\n",
      "10/10 [==============================] - 32s 3s/step - loss: 0.0677 - accuracy: 0.9761\n",
      "Epoch 72/100\n",
      "10/10 [==============================] - 32s 3s/step - loss: 0.0682 - accuracy: 0.9773\n",
      "Epoch 73/100\n",
      "10/10 [==============================] - 32s 3s/step - loss: 0.0552 - accuracy: 0.9822\n",
      "Epoch 74/100\n",
      "10/10 [==============================] - 32s 3s/step - loss: 0.0511 - accuracy: 0.9809\n",
      "Epoch 75/100\n",
      "10/10 [==============================] - 32s 3s/step - loss: 0.0533 - accuracy: 0.9822\n",
      "Epoch 76/100\n",
      "10/10 [==============================] - 32s 3s/step - loss: 0.0698 - accuracy: 0.9744\n",
      "Epoch 77/100\n",
      "10/10 [==============================] - 32s 3s/step - loss: 0.0744 - accuracy: 0.9744\n",
      "Epoch 78/100\n",
      "10/10 [==============================] - 32s 3s/step - loss: 0.0558 - accuracy: 0.9822\n",
      "Epoch 79/100\n",
      "10/10 [==============================] - 32s 3s/step - loss: 0.0613 - accuracy: 0.9761\n",
      "Epoch 80/100\n",
      "10/10 [==============================] - 32s 3s/step - loss: 0.0668 - accuracy: 0.9801\n",
      "Epoch 81/100\n",
      "10/10 [==============================] - 33s 3s/step - loss: 0.0583 - accuracy: 0.9801\n",
      "Epoch 82/100\n",
      "10/10 [==============================] - 32s 3s/step - loss: 0.0580 - accuracy: 0.9785\n",
      "Epoch 83/100\n",
      "10/10 [==============================] - 32s 3s/step - loss: 0.0590 - accuracy: 0.9793\n",
      "Epoch 84/100\n",
      "10/10 [==============================] - 32s 3s/step - loss: 0.0534 - accuracy: 0.9834\n",
      "Epoch 85/100\n",
      "10/10 [==============================] - 32s 3s/step - loss: 0.0522 - accuracy: 0.9834\n",
      "Epoch 86/100\n",
      "10/10 [==============================] - 32s 3s/step - loss: 0.0632 - accuracy: 0.9761\n",
      "Epoch 87/100\n",
      "10/10 [==============================] - 32s 3s/step - loss: 0.0513 - accuracy: 0.9817\n",
      "Epoch 88/100\n",
      "10/10 [==============================] - 32s 3s/step - loss: 0.0569 - accuracy: 0.9781\n",
      "Epoch 89/100\n",
      "10/10 [==============================] - 32s 3s/step - loss: 0.0584 - accuracy: 0.9797\n",
      "Epoch 90/100\n",
      "10/10 [==============================] - 32s 3s/step - loss: 0.0620 - accuracy: 0.9753\n",
      "Epoch 91/100\n",
      "10/10 [==============================] - 32s 3s/step - loss: 0.0752 - accuracy: 0.9688\n",
      "Epoch 92/100\n",
      "10/10 [==============================] - 32s 3s/step - loss: 0.0692 - accuracy: 0.9724\n",
      "Epoch 93/100\n",
      "10/10 [==============================] - 32s 3s/step - loss: 0.0602 - accuracy: 0.9793\n",
      "Epoch 94/100\n",
      "10/10 [==============================] - 32s 3s/step - loss: 0.0633 - accuracy: 0.9765\n",
      "Epoch 95/100\n",
      "10/10 [==============================] - 32s 3s/step - loss: 0.0586 - accuracy: 0.9805\n",
      "Epoch 96/100\n",
      "10/10 [==============================] - 32s 3s/step - loss: 0.0641 - accuracy: 0.9769\n",
      "Epoch 97/100\n",
      "10/10 [==============================] - 32s 3s/step - loss: 0.0599 - accuracy: 0.9805\n",
      "Epoch 98/100\n",
      "10/10 [==============================] - 32s 3s/step - loss: 0.0541 - accuracy: 0.9805\n",
      "Epoch 99/100\n",
      "10/10 [==============================] - 32s 3s/step - loss: 0.0605 - accuracy: 0.9777\n",
      "Epoch 100/100\n",
      "10/10 [==============================] - 32s 3s/step - loss: 0.0650 - accuracy: 0.9777\n"
     ]
    }
   ],
   "source": [
    "history = model.fit(train_generator, epochs=100)"
   ]
  },
  {
   "cell_type": "code",
   "execution_count": 7,
   "id": "b52ae722",
   "metadata": {},
   "outputs": [],
   "source": [
    "model.save('lemon_model.h5')"
   ]
  },
  {
   "cell_type": "code",
   "execution_count": 15,
   "id": "e6a159c9",
   "metadata": {},
   "outputs": [
    {
     "name": "stdout",
     "output_type": "stream",
     "text": [
      "1/1 [==============================] - 0s 180ms/step - loss: 0.0195 - accuracy: 1.0000\n"
     ]
    }
   ],
   "source": [
    "output = model.evaluate(test_generator)"
   ]
  },
  {
   "cell_type": "code",
   "execution_count": 16,
   "id": "4d5acb20",
   "metadata": {},
   "outputs": [
    {
     "name": "stdout",
     "output_type": "stream",
     "text": [
      "loss:  0.01949688233435154\n",
      "accuracy:  1.0\n"
     ]
    }
   ],
   "source": [
    "print(\"loss: \", output[0])\n",
    "print(\"accuracy: \", output[1])"
   ]
  }
 ],
 "metadata": {
  "kernelspec": {
   "display_name": "Python 3.9.12 ('base')",
   "language": "python",
   "name": "python3"
  },
  "language_info": {
   "codemirror_mode": {
    "name": "ipython",
    "version": 3
   },
   "file_extension": ".py",
   "mimetype": "text/x-python",
   "name": "python",
   "nbconvert_exporter": "python",
   "pygments_lexer": "ipython3",
   "version": "3.9.12"
  },
  "vscode": {
   "interpreter": {
    "hash": "9176c5fcc7b2ca140d62af43b754eafa9ac2e347505cb7f00793f714c2f53eaa"
   }
  }
 },
 "nbformat": 4,
 "nbformat_minor": 5
}
